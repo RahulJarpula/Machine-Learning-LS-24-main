{
 "cells": [
  {
   "cell_type": "code",
   "execution_count": 1,
   "metadata": {
    "executionInfo": {
     "elapsed": 593,
     "status": "ok",
     "timestamp": 1720276369873,
     "user": {
      "displayName": "T Roy",
      "userId": "03346487709597720736"
     },
     "user_tz": -330
    },
    "id": "SzqjA6jbG-dW"
   },
   "outputs": [],
   "source": [
    "import tensorflow as tf\n",
    "from tensorflow.keras.layers import Dense,Flatten\n",
    "from tensorflow.keras import Input"
   ]
  },
  {
   "cell_type": "code",
   "execution_count": 2,
   "metadata": {},
   "outputs": [],
   "source": [
    "seed = 69\n",
    "tf.random.set_seed(seed)\n",
    "import numpy as np\n",
    "np.random.seed(seed)\n",
    "import random\n",
    "random.seed(seed)"
   ]
  },
  {
   "cell_type": "code",
   "execution_count": 3,
   "metadata": {
    "colab": {
     "base_uri": "https://localhost:8080/"
    },
    "executionInfo": {
     "elapsed": 759,
     "status": "ok",
     "timestamp": 1720276507396,
     "user": {
      "displayName": "T Roy",
      "userId": "03346487709597720736"
     },
     "user_tz": -330
    },
    "id": "dWOiYzrqIrvB",
    "outputId": "c9fdf06c-b19e-43f6-8401-f891a79ef62b"
   },
   "outputs": [
    {
     "name": "stdout",
     "output_type": "stream",
     "text": [
      "Found 269 files belonging to 2 classes.\n"
     ]
    }
   ],
   "source": [
    "dataset = tf.keras.preprocessing.image_dataset_from_directory(\n",
    "    '/Users/rahuljarpula/Desktop/ML Course/Machine-Learning-LS-24-main/Week 2/Assignment/Neural Network Assignment/homer_bart',\n",
    "    image_size=(64, 64),\n",
    "    label_mode='binary'\n",
    ")"
   ]
  },
  {
   "cell_type": "code",
   "execution_count": 4,
   "metadata": {
    "executionInfo": {
     "elapsed": 5,
     "status": "ok",
     "timestamp": 1720276507912,
     "user": {
      "displayName": "T Roy",
      "userId": "03346487709597720736"
     },
     "user_tz": -330
    },
    "id": "RSasTq5wRgPz"
   },
   "outputs": [],
   "source": [
    "train_data = dataset.take(8)\n",
    "test_data = dataset.skip(8)\n",
    "train_data = train_data.cache().shuffle(1000).prefetch(buffer_size=tf.data.AUTOTUNE)\n",
    "test_data = test_data.cache().shuffle(1000).prefetch(buffer_size=tf.data.AUTOTUNE)\n"
   ]
  },
  {
   "cell_type": "code",
   "execution_count": 5,
   "metadata": {
    "executionInfo": {
     "elapsed": 3,
     "status": "ok",
     "timestamp": 1720276507913,
     "user": {
      "displayName": "T Roy",
      "userId": "03346487709597720736"
     },
     "user_tz": -330
    },
    "id": "yID91aluk8jG"
   },
   "outputs": [],
   "source": [
    "preprocess = tf.keras.Sequential([\n",
    "    tf.keras.layers.Rescaling(1/255)  \n",
    "])\n",
    "model = tf.keras.Sequential([\n",
    "    Input(shape=(64, 64, 3)), \n",
    "    preprocess,               \n",
    "    Flatten(),                \n",
    "    Dense(256, activation='relu'),  \n",
    "    Dense(128, activation='relu'),  \n",
    "    Dense(64, activation='relu'),  \n",
    "    Dense(1, activation='sigmoid')  \n",
    "])\n"
   ]
  },
  {
   "cell_type": "code",
   "execution_count": 6,
   "metadata": {
    "executionInfo": {
     "elapsed": 506,
     "status": "ok",
     "timestamp": 1720276514690,
     "user": {
      "displayName": "T Roy",
      "userId": "03346487709597720736"
     },
     "user_tz": -330
    },
    "id": "n8IzestGlVwX"
   },
   "outputs": [],
   "source": [
    "model.compile(\n",
    "    optimizer='adam',\n",
    "    loss=tf.keras.losses.BinaryCrossentropy(from_logits=False), \n",
    "    metrics=['accuracy']\n",
    ")\n"
   ]
  },
  {
   "cell_type": "code",
   "execution_count": 7,
   "metadata": {
    "colab": {
     "base_uri": "https://localhost:8080/"
    },
    "executionInfo": {
     "elapsed": 6562,
     "status": "ok",
     "timestamp": 1720276521246,
     "user": {
      "displayName": "T Roy",
      "userId": "03346487709597720736"
     },
     "user_tz": -330
    },
    "id": "MUX7le0zrNKo",
    "outputId": "9f1a778c-d309-4384-fe24-5f2f60fc7d0a"
   },
   "outputs": [
    {
     "name": "stdout",
     "output_type": "stream",
     "text": [
      "Epoch 1/15\n",
      "\u001b[1m8/8\u001b[0m \u001b[32m━━━━━━━━━━━━━━━━━━━━\u001b[0m\u001b[37m\u001b[0m \u001b[1m1s\u001b[0m 22ms/step - accuracy: 0.5401 - loss: 2.3089 - val_accuracy: 0.5385 - val_loss: 0.6633\n",
      "Epoch 2/15\n",
      "\u001b[1m8/8\u001b[0m \u001b[32m━━━━━━━━━━━━━━━━━━━━\u001b[0m\u001b[37m\u001b[0m \u001b[1m0s\u001b[0m 10ms/step - accuracy: 0.5396 - loss: 1.1154 - val_accuracy: 0.5385 - val_loss: 1.2147\n",
      "Epoch 3/15\n",
      "\u001b[1m8/8\u001b[0m \u001b[32m━━━━━━━━━━━━━━━━━━━━\u001b[0m\u001b[37m\u001b[0m \u001b[1m0s\u001b[0m 10ms/step - accuracy: 0.6022 - loss: 0.8099 - val_accuracy: 0.6923 - val_loss: 0.5004\n",
      "Epoch 4/15\n",
      "\u001b[1m8/8\u001b[0m \u001b[32m━━━━━━━━━━━━━━━━━━━━\u001b[0m\u001b[37m\u001b[0m \u001b[1m0s\u001b[0m 10ms/step - accuracy: 0.6810 - loss: 0.6640 - val_accuracy: 0.5385 - val_loss: 0.5497\n",
      "Epoch 5/15\n",
      "\u001b[1m8/8\u001b[0m \u001b[32m━━━━━━━━━━━━━━━━━━━━\u001b[0m\u001b[37m\u001b[0m \u001b[1m0s\u001b[0m 17ms/step - accuracy: 0.7763 - loss: 0.4779 - val_accuracy: 0.7692 - val_loss: 0.3945\n",
      "Epoch 6/15\n",
      "\u001b[1m8/8\u001b[0m \u001b[32m━━━━━━━━━━━━━━━━━━━━\u001b[0m\u001b[37m\u001b[0m \u001b[1m0s\u001b[0m 10ms/step - accuracy: 0.7650 - loss: 0.4640 - val_accuracy: 0.6923 - val_loss: 0.4196\n",
      "Epoch 7/15\n",
      "\u001b[1m8/8\u001b[0m \u001b[32m━━━━━━━━━━━━━━━━━━━━\u001b[0m\u001b[37m\u001b[0m \u001b[1m0s\u001b[0m 9ms/step - accuracy: 0.8246 - loss: 0.4075 - val_accuracy: 1.0000 - val_loss: 0.2887\n",
      "Epoch 8/15\n",
      "\u001b[1m8/8\u001b[0m \u001b[32m━━━━━━━━━━━━━━━━━━━━\u001b[0m\u001b[37m\u001b[0m \u001b[1m0s\u001b[0m 9ms/step - accuracy: 0.8378 - loss: 0.3631 - val_accuracy: 1.0000 - val_loss: 0.2560\n",
      "Epoch 9/15\n",
      "\u001b[1m8/8\u001b[0m \u001b[32m━━━━━━━━━━━━━━━━━━━━\u001b[0m\u001b[37m\u001b[0m \u001b[1m0s\u001b[0m 10ms/step - accuracy: 0.8140 - loss: 0.3730 - val_accuracy: 1.0000 - val_loss: 0.2421\n",
      "Epoch 10/15\n",
      "\u001b[1m8/8\u001b[0m \u001b[32m━━━━━━━━━━━━━━━━━━━━\u001b[0m\u001b[37m\u001b[0m \u001b[1m0s\u001b[0m 14ms/step - accuracy: 0.8875 - loss: 0.2955 - val_accuracy: 1.0000 - val_loss: 0.2324\n",
      "Epoch 11/15\n",
      "\u001b[1m8/8\u001b[0m \u001b[32m━━━━━━━━━━━━━━━━━━━━\u001b[0m\u001b[37m\u001b[0m \u001b[1m0s\u001b[0m 11ms/step - accuracy: 0.8511 - loss: 0.3482 - val_accuracy: 1.0000 - val_loss: 0.2342\n",
      "Epoch 12/15\n",
      "\u001b[1m8/8\u001b[0m \u001b[32m━━━━━━━━━━━━━━━━━━━━\u001b[0m\u001b[37m\u001b[0m \u001b[1m0s\u001b[0m 10ms/step - accuracy: 0.8158 - loss: 0.4363 - val_accuracy: 1.0000 - val_loss: 0.1794\n",
      "Epoch 13/15\n",
      "\u001b[1m8/8\u001b[0m \u001b[32m━━━━━━━━━━━━━━━━━━━━\u001b[0m\u001b[37m\u001b[0m \u001b[1m0s\u001b[0m 9ms/step - accuracy: 0.8420 - loss: 0.3375 - val_accuracy: 0.9231 - val_loss: 0.2361\n",
      "Epoch 14/15\n",
      "\u001b[1m8/8\u001b[0m \u001b[32m━━━━━━━━━━━━━━━━━━━━\u001b[0m\u001b[37m\u001b[0m \u001b[1m0s\u001b[0m 10ms/step - accuracy: 0.8910 - loss: 0.2661 - val_accuracy: 1.0000 - val_loss: 0.1405\n",
      "Epoch 15/15\n",
      "\u001b[1m8/8\u001b[0m \u001b[32m━━━━━━━━━━━━━━━━━━━━\u001b[0m\u001b[37m\u001b[0m \u001b[1m0s\u001b[0m 17ms/step - accuracy: 0.9270 - loss: 0.2118 - val_accuracy: 1.0000 - val_loss: 0.1769\n"
     ]
    },
    {
     "data": {
      "text/plain": [
       "<keras.src.callbacks.history.History at 0x16c6067d0>"
      ]
     },
     "execution_count": 7,
     "metadata": {},
     "output_type": "execute_result"
    }
   ],
   "source": [
    "model.fit(\n",
    "    train_data,\n",
    "    epochs=15,\n",
    "    batch_size=32,\n",
    "    verbose=1,\n",
    "    validation_data=test_data\n",
    ")"
   ]
  },
  {
   "cell_type": "code",
   "execution_count": 8,
   "metadata": {},
   "outputs": [
    {
     "name": "stdout",
     "output_type": "stream",
     "text": [
      "1/1 - 0s - 3ms/step - accuracy: 1.0000 - loss: 0.1769\n",
      "Test accuracy: 1.00\n"
     ]
    }
   ],
   "source": [
    "test_loss, test_accuracy = model.evaluate(test_data, verbose=2)\n",
    "print(f'Test accuracy: {test_accuracy:.2f}')\n"
   ]
  }
 ],
 "metadata": {
  "accelerator": "GPU",
  "colab": {
   "authorship_tag": "ABX9TyOJKT1vvaSEPBbFKaqp78uD",
   "gpuType": "T4",
   "provenance": []
  },
  "kernelspec": {
   "display_name": "Python 3.12.3",
   "language": "python",
   "name": "myenv"
  },
  "language_info": {
   "codemirror_mode": {
    "name": "ipython",
    "version": 3
   },
   "file_extension": ".py",
   "mimetype": "text/x-python",
   "name": "python",
   "nbconvert_exporter": "python",
   "pygments_lexer": "ipython3",
   "version": "3.11.9"
  }
 },
 "nbformat": 4,
 "nbformat_minor": 4
}
